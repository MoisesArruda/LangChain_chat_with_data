{
 "cells": [
  {
   "cell_type": "code",
   "execution_count": 1,
   "metadata": {},
   "outputs": [
    {
     "data": {
      "text/plain": [
       "True"
      ]
     },
     "execution_count": 1,
     "metadata": {},
     "output_type": "execute_result"
    }
   ],
   "source": [
    "import os\n",
    "import glob\n",
    "from typing import List\n",
    "from langchain.chains import LLMChain\n",
    "from langchain.chat_models import AzureChatOpenAI\n",
    "from langchain.document_loaders import TextLoader\n",
    "from langchain.embeddings import OpenAIEmbeddings\n",
    "from langchain.schema import Document\n",
    "from langchain.text_splitter import CharacterTextSplitter\n",
    "from langchain.vectorstores import Chroma, FAISS\n",
    "from langchain.document_loaders import PyPDFLoader\n",
    "\n",
    "\n",
    "from langchain.prompts import PromptTemplate\n",
    "from dotenv import load_dotenv\n",
    "\n",
    "load_dotenv()"
   ]
  },
  {
   "cell_type": "code",
   "execution_count": 2,
   "metadata": {},
   "outputs": [],
   "source": [
    "def create_chat(t=0.0):\n",
    "    \"\"\"\n",
    "    Configura os objetos do AzureChatOpenAI para serem utilizados.\n",
    " \n",
    "    Args:\n",
    "        t (float): O valor da temperatura para determinar o comportamento da resposta, por padrão é 0.0.\n",
    "   \n",
    "    Returns:\n",
    "        AzureChatOpenAI: O objeto de AzureChatOpenAi configurado.\n",
    "    \"\"\"\n",
    "    llm_chat = AzureChatOpenAI(openai_api_base=os.getenv(\"OPENAI_API_BASE\"),\n",
    "                    openai_api_version=os.getenv(\"OPENAI_API_VERSION\"),\n",
    "                    openai_api_key=os.getenv(\"OPENAI_API_KEY\"),\n",
    "                    openai_api_type=os.getenv(\"OPENAI_API_TYPE\"),\n",
    "                    deployment_name=os.getenv(\"DEPLOYMENT_NAME\"),\n",
    "                    temperature=t\n",
    "    )\n",
    "    return llm_chat\n"
   ]
  },
  {
   "cell_type": "code",
   "execution_count": 3,
   "metadata": {},
   "outputs": [],
   "source": [
    "def create_embeddings(chunk_size=1):\n",
    "    embeddings = OpenAIEmbeddings(\n",
    "        deployment = os.getenv(\"EMBEDDING_DEPLOYMENT_NAME\"),\n",
    "        chunk_size=chunk_size\n",
    "    )\n",
    "    return embeddings"
   ]
  },
  {
   "cell_type": "code",
   "execution_count": 4,
   "metadata": {},
   "outputs": [],
   "source": [
    "def create_prompts():\n",
    "    \"\"\"Cria o prompt a partir do template.\"\"\"  \n",
    "    template = \"\"\"Você é um agente de IA que deve auxiliar as dúvidas das pessoas com suas dúvidas. Responda as pessoas sobre assuntos relacionados a containers e docker.\\\n",
    "              Responda as perguntas sempre em português. Caso não consiga responder, responda com \"Eu não sei\".\n",
    "        chat_history = {chat_history}\n",
    "        Human: {query}\n",
    "        Context: {contexto}\n",
    "        Answer:\"\"\"\n",
    "\n",
    "    prompt = PromptTemplate(template=template,input_variables=['chat_history','query','contexto'])\n",
    "\n",
    "    return prompt"
   ]
  }
 ],
 "metadata": {
  "kernelspec": {
   "display_name": ".venv",
   "language": "python",
   "name": "python3"
  },
  "language_info": {
   "codemirror_mode": {
    "name": "ipython",
    "version": 3
   },
   "file_extension": ".py",
   "mimetype": "text/x-python",
   "name": "python",
   "nbconvert_exporter": "python",
   "pygments_lexer": "ipython3",
   "version": "3.10.10"
  }
 },
 "nbformat": 4,
 "nbformat_minor": 2
}
