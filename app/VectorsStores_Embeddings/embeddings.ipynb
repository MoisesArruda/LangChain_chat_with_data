{
 "cells": [
  {
   "cell_type": "markdown",
   "metadata": {},
   "source": [
    "![Fluxo de trabalho para geração aumentada de recuperação RAG](img/download.jfif')"
   ]
  },
  {
   "cell_type": "code",
   "execution_count": 1,
   "metadata": {},
   "outputs": [
    {
     "data": {
      "text/plain": [
       "True"
      ]
     },
     "execution_count": 1,
     "metadata": {},
     "output_type": "execute_result"
    }
   ],
   "source": [
    "import os\n",
    "import glob\n",
    "from typing import List\n",
    "from langchain.chains import LLMChain\n",
    "from langchain.chat_models import AzureChatOpenAI\n",
    "from langchain.document_loaders import TextLoader\n",
    "from langchain.embeddings import OpenAIEmbeddings\n",
    "from langchain.schema import Document\n",
    "from langchain.text_splitter import RecursiveCharacterTextSplitter,CharacterTextSplitter\n",
    "from langchain.vectorstores import Chroma, FAISS\n",
    "from langchain.document_loaders import PyPDFLoader\n",
    "\n",
    "\n",
    "from langchain.prompts import PromptTemplate\n",
    "from dotenv import load_dotenv\n",
    "\n",
    "load_dotenv()"
   ]
  },
  {
   "cell_type": "code",
   "execution_count": 2,
   "metadata": {},
   "outputs": [],
   "source": [
    "def create_chat(t=0.0):\n",
    "    \"\"\"\n",
    "    Configura os objetos do AzureChatOpenAI para serem utilizados.\n",
    " \n",
    "    Args:\n",
    "        t (float): O valor da temperatura para determinar o comportamento da resposta, por padrão é 0.0.\n",
    "   \n",
    "    Returns:\n",
    "        AzureChatOpenAI: O objeto de AzureChatOpenAi configurado.\n",
    "    \"\"\"\n",
    "    llm_chat = AzureChatOpenAI(openai_api_base=os.getenv(\"OPENAI_API_BASE\"),\n",
    "                    openai_api_version=os.getenv(\"OPENAI_API_VERSION\"),\n",
    "                    openai_api_key=os.getenv(\"OPENAI_API_KEY\"),\n",
    "                    openai_api_type=os.getenv(\"OPENAI_API_TYPE\"),\n",
    "                    deployment_name=os.getenv(\"DEPLOYMENT_NAME\"),\n",
    "                    temperature=t\n",
    "    )\n",
    "    return llm_chat"
   ]
  },
  {
   "cell_type": "code",
   "execution_count": 3,
   "metadata": {},
   "outputs": [],
   "source": [
    "# load pdf\n",
    "loaders = [\n",
    "    PyPDFLoader(r'C:\\AI\\Cursos\\LangChain_Chat_Data\\data\\Docker_para_desenvolvedores.pdf'),\n",
    "           PyPDFLoader(r'C:\\AI\\Cursos\\LangChain_Chat_Data\\data\\Containers_com_Docker.pdf')\n",
    "        ]   \n",
    "           \n",
    "docs = []\n",
    "\n",
    "for loader in loaders:\n",
    "    docs.extend(loader.load())"
   ]
  },
  {
   "cell_type": "code",
   "execution_count": 4,
   "metadata": {},
   "outputs": [
    {
     "data": {
      "text/plain": [
       "336"
      ]
     },
     "execution_count": 4,
     "metadata": {},
     "output_type": "execute_result"
    }
   ],
   "source": [
    "# split\n",
    "\n",
    "text_splitter = RecursiveCharacterTextSplitter(\n",
    "    chunk_size=1500,\n",
    "    chunk_overlap=150,\n",
    ")\n",
    "\n",
    "splits = text_splitter.split_documents(docs)\n",
    "# Total de chunks\n",
    "len(splits)"
   ]
  },
  {
   "cell_type": "code",
   "execution_count": 5,
   "metadata": {},
   "outputs": [],
   "source": [
    "# Embeddings - Vamos incorporar nossas divisões\n",
    "\n",
    "def create_embeddings():\n",
    "    embeddings = OpenAIEmbeddings(\n",
    "        deployment = os.getenv(\"EMBEDDING_DEPLOYMENT_NAME\"),\n",
    "    )\n",
    "    return embeddings\n",
    "\n",
    "embedding = create_embeddings()"
   ]
  },
  {
   "cell_type": "markdown",
   "metadata": {},
   "source": [
    "## Exemplo de criação de Embeddings"
   ]
  },
  {
   "cell_type": "code",
   "execution_count": 6,
   "metadata": {},
   "outputs": [],
   "source": [
    "sentence1 = \"i like dogs\"\n",
    "sentence2 = \"i like canines\"\n",
    "sentence3 = \"the weather is ugly outside\""
   ]
  },
  {
   "cell_type": "code",
   "execution_count": 7,
   "metadata": {},
   "outputs": [],
   "source": [
    "# Criar a representação numérica daquele texto\n",
    "embedding1 = embedding.embed_query(sentence1)\n",
    "embedding2 = embedding.embed_query(sentence2)\n",
    "embedding3 = embedding.embed_query(sentence3)"
   ]
  },
  {
   "cell_type": "code",
   "execution_count": 8,
   "metadata": {},
   "outputs": [],
   "source": [
    "import numpy as np"
   ]
  },
  {
   "cell_type": "code",
   "execution_count": 9,
   "metadata": {},
   "outputs": [
    {
     "data": {
      "text/plain": [
       "0.9632123594065702"
      ]
     },
     "execution_count": 9,
     "metadata": {},
     "output_type": "execute_result"
    }
   ],
   "source": [
    "# Os dois primeiros textos são bem parecidos\n",
    "np.dot(embedding1, embedding2)"
   ]
  },
  {
   "cell_type": "code",
   "execution_count": 10,
   "metadata": {},
   "outputs": [
    {
     "data": {
      "text/plain": [
       "0.7710794706526474"
      ]
     },
     "execution_count": 10,
     "metadata": {},
     "output_type": "execute_result"
    }
   ],
   "source": [
    "# Não tão parecidos\n",
    "np.dot(embedding1, embedding3)"
   ]
  },
  {
   "cell_type": "code",
   "execution_count": 11,
   "metadata": {},
   "outputs": [
    {
     "data": {
      "text/plain": [
       "0.7597185772197995"
      ]
     },
     "execution_count": 11,
     "metadata": {},
     "output_type": "execute_result"
    }
   ],
   "source": [
    "# Não tão parecidos\n",
    "np.dot(embedding2, embedding3)"
   ]
  },
  {
   "cell_type": "code",
   "execution_count": 12,
   "metadata": {},
   "outputs": [],
   "source": [
    "from langchain.vectorstores import Chroma"
   ]
  },
  {
   "cell_type": "code",
   "execution_count": 13,
   "metadata": {},
   "outputs": [],
   "source": [
    "#persist_directory = r'data\\chroma'"
   ]
  },
  {
   "cell_type": "code",
   "execution_count": 14,
   "metadata": {},
   "outputs": [
    {
     "name": "stderr",
     "output_type": "stream",
     "text": [
      "'rm' n�o � reconhecido como um comando interno\n",
      "ou externo, um programa oper�vel ou um arquivo em lotes.\n"
     ]
    }
   ],
   "source": [
    "! rm -rf ./docs/chroma"
   ]
  },
  {
   "cell_type": "code",
   "execution_count": 15,
   "metadata": {},
   "outputs": [],
   "source": [
    "vectordb = Chroma.from_documents(\n",
    "    \n",
    "    documents=splits,\n",
    "    embedding=embedding,\n",
    "    #persist_directory=persist_directory\n",
    ")"
   ]
  },
  {
   "cell_type": "code",
   "execution_count": 16,
   "metadata": {},
   "outputs": [
    {
     "name": "stdout",
     "output_type": "stream",
     "text": [
      "336\n"
     ]
    }
   ],
   "source": [
    "# Mesma quantidade de splits\n",
    "print(vectordb._collection.count())"
   ]
  },
  {
   "cell_type": "code",
   "execution_count": 17,
   "metadata": {},
   "outputs": [],
   "source": [
    "query = \"Do que se trata os arquivos?\"\n",
    "\n",
    "# k=3 especifica o número de documents que serão retornados\n",
    "docs = vectordb.similarity_search(query,k=3)"
   ]
  },
  {
   "cell_type": "code",
   "execution_count": 18,
   "metadata": {},
   "outputs": [
    {
     "data": {
      "text/plain": [
       "3"
      ]
     },
     "execution_count": 18,
     "metadata": {},
     "output_type": "execute_result"
    }
   ],
   "source": [
    "len(docs)"
   ]
  },
  {
   "cell_type": "code",
   "execution_count": 19,
   "metadata": {},
   "outputs": [
    {
     "name": "stdout",
     "output_type": "stream",
     "text": [
      "Capítulo 4 \n",
      "Trabalhando com volumes \n",
      " \n",
      " \n",
      "Um volume pode ser um diretório localizado fora do sistema de arquivos de \n",
      "um container . O Docker permite especificar diretórios no container  para que \n",
      "possam ser mapeados no sistema de arquivos do host. Com isso, temos a \n",
      "capacidade de manipular dados no container  sem que tenham relação alguma \n",
      "com as informações da imagem. Um volume pode ser compartilhado entre \n",
      "vários containers . A figura a seguir ilustra como os volumes funcionam:\n"
     ]
    }
   ],
   "source": [
    "# Busca por similaridade do primeiro documento\n",
    "print(docs[0].page_content)"
   ]
  },
  {
   "cell_type": "code",
   "execution_count": 20,
   "metadata": {},
   "outputs": [],
   "source": [
    "#vectordb.persist()"
   ]
  },
  {
   "cell_type": "code",
   "execution_count": 21,
   "metadata": {},
   "outputs": [
    {
     "name": "stdout",
     "output_type": "stream",
     "text": [
      "{'page': 50, 'source': 'C:\\\\AI\\\\Cursos\\\\LangChain_Chat_Data\\\\data\\\\Docker_para_desenvolvedores.pdf'}\n"
     ]
    }
   ],
   "source": [
    "print(docs[1].metadata)"
   ]
  },
  {
   "cell_type": "code",
   "execution_count": 22,
   "metadata": {},
   "outputs": [
    {
     "name": "stdout",
     "output_type": "stream",
     "text": [
      "{'page': 40, 'source': 'C:\\\\AI\\\\Cursos\\\\LangChain_Chat_Data\\\\data\\\\Docker_para_desenvolvedores.pdf'}\n",
      "{'page': 14, 'source': 'C:\\\\AI\\\\Cursos\\\\LangChain_Chat_Data\\\\data\\\\Docker_para_desenvolvedores.pdf'}\n",
      "{'page': 18, 'source': 'C:\\\\AI\\\\Cursos\\\\LangChain_Chat_Data\\\\data\\\\Docker_para_desenvolvedores.pdf'}\n",
      "{'page': 160, 'source': 'C:\\\\AI\\\\Cursos\\\\LangChain_Chat_Data\\\\data\\\\Docker_para_desenvolvedores.pdf'}\n",
      "{'page': 15, 'source': 'C:\\\\AI\\\\Cursos\\\\LangChain_Chat_Data\\\\data\\\\Containers_com_Docker.pdf'}\n"
     ]
    }
   ],
   "source": [
    "query = \"Qual a diferença entre Containers, Docker e imagens?\"\n",
    "\n",
    "docs = vectordb.similarity_search(query,k=5)\n",
    "\n",
    "for doc in docs:\n",
    "    print(doc.metadata)"
   ]
  },
  {
   "cell_type": "code",
   "execution_count": 25,
   "metadata": {},
   "outputs": [
    {
     "name": "stdout",
     "output_type": "stream",
     "text": [
      "1.2. O que diferencia um container de uma máquina virtual? Casa do Código \n",
      " \n",
      "1.2 O que diferencia um container de uma máquina virtual? \n",
      "Para entender melhor a diferença entre virtualização e containers , vamos \n",
      "relembrar primeiro os tipos de virtualização. \n",
      "Em resumo, temos os seguintes tipos: \n",
      "• Bare Metal ; \n",
      "• Hosted . \n",
      " \n",
      "No Bare Metal , o software  que proporciona a virtualização é instalado \n",
      "diretamente sobre o hardware, por exemplo, Xen, VMware ESXi e Hyper-V . \n",
      "Esse tipo de virtualização proporciona um isolamento maior e, ao mesmo \n",
      "tempo, uma sobrecarga, pois cada máquina virtual que é criada executará seu próprio kernel e instância do sistema operacional. Já o tipo hosted , o \n",
      "software  que proporciona a virtualização é executado sobre um sistema \n",
      "operacional, por exemplo, o VirtualBox . \n",
      "A virtualização por containers , proposta pelo LXC, ocorre de forma \n",
      "menos isolada, pois compartilha algumas partes do kernel do host, fazendo \n",
      "com que a sobrecarga seja menor. \n",
      "Na figura a seguir, veja a comparação entre máquinas virtuais e Docker \n",
      "containers: \n",
      " \n",
      "  \n",
      " \n",
      "  \n",
      " \n",
      "  \n",
      " \n",
      "  \n",
      " \n",
      "  \n",
      " \n",
      "  \n",
      " \n",
      " \n",
      " \n",
      "4\n"
     ]
    }
   ],
   "source": [
    "print(docs[4].page_content)"
   ]
  },
  {
   "cell_type": "code",
   "execution_count": null,
   "metadata": {},
   "outputs": [],
   "source": []
  }
 ],
 "metadata": {
  "kernelspec": {
   "display_name": ".venv",
   "language": "python",
   "name": "python3"
  },
  "language_info": {
   "codemirror_mode": {
    "name": "ipython",
    "version": 3
   },
   "file_extension": ".py",
   "mimetype": "text/x-python",
   "name": "python",
   "nbconvert_exporter": "python",
   "pygments_lexer": "ipython3",
   "version": "3.10.10"
  }
 },
 "nbformat": 4,
 "nbformat_minor": 2
}
