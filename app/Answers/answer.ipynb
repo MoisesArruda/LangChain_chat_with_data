{
 "cells": [
  {
   "cell_type": "markdown",
   "metadata": {},
   "source": [
    "## RetrievalQA chain\n",
    "\n",
    "Único adendo é que ele não é eficiente ao se trabalhar com memória\n",
    "\n",
    "!(app\\Answers\\Retrieval.png)"
   ]
  },
  {
   "cell_type": "markdown",
   "metadata": {},
   "source": [
    "### Métodos adicionais para responder a pergunta.\n",
    "\n",
    "!(app\\Answers\\Additional methods.png)"
   ]
  },
  {
   "cell_type": "code",
   "execution_count": 9,
   "metadata": {},
   "outputs": [
    {
     "data": {
      "text/plain": [
       "True"
      ]
     },
     "execution_count": 9,
     "metadata": {},
     "output_type": "execute_result"
    }
   ],
   "source": [
    "import os\n",
    "import glob\n",
    "from typing import List\n",
    "from langchain.chains import LLMChain\n",
    "from langchain.chat_models import AzureChatOpenAI\n",
    "from langchain.document_loaders import TextLoader\n",
    "from langchain.embeddings import OpenAIEmbeddings\n",
    "from langchain.schema import Document\n",
    "from langchain.text_splitter import RecursiveCharacterTextSplitter,CharacterTextSplitter\n",
    "from langchain.vectorstores import Chroma, FAISS\n",
    "from langchain.document_loaders import PyPDFLoader\n",
    "from langchain.chains import RetrievalQA\n",
    "\n",
    "from langchain.prompts import PromptTemplate\n",
    "from dotenv import load_dotenv\n",
    "\n",
    "load_dotenv()"
   ]
  },
  {
   "cell_type": "code",
   "execution_count": 2,
   "metadata": {},
   "outputs": [],
   "source": [
    "def create_chat(t=0.0):\n",
    "    \"\"\"\n",
    "    Configura os objetos do AzureChatOpenAI para serem utilizados.\n",
    " \n",
    "    Args:\n",
    "        t (float): O valor da temperatura para determinar o comportamento da resposta, por padrão é 0.0.\n",
    "   \n",
    "    Returns:\n",
    "        AzureChatOpenAI: O objeto de AzureChatOpenAi configurado.\n",
    "    \"\"\"\n",
    "    llm_chat = AzureChatOpenAI(openai_api_base=os.getenv(\"OPENAI_API_BASE\"),\n",
    "                    openai_api_version=os.getenv(\"OPENAI_API_VERSION\"),\n",
    "                    openai_api_key=os.getenv(\"OPENAI_API_KEY\"),\n",
    "                    openai_api_type=os.getenv(\"OPENAI_API_TYPE\"),\n",
    "                    deployment_name=os.getenv(\"DEPLOYMENT_NAME\"),\n",
    "                    temperature=t\n",
    "    )\n",
    "    return llm_chat"
   ]
  },
  {
   "cell_type": "code",
   "execution_count": 3,
   "metadata": {},
   "outputs": [],
   "source": [
    "# load pdfs\n",
    "loaders = [\n",
    "    PyPDFLoader(r'C:\\AI\\Cursos\\LangChain_Chat_Data\\data\\Docker_para_desenvolvedores.pdf'),\n",
    "           PyPDFLoader(r'C:\\AI\\Cursos\\LangChain_Chat_Data\\data\\Containers_com_Docker.pdf')\n",
    "        ]   \n",
    "           \n",
    "docs = []\n",
    "\n",
    "for loader in loaders:\n",
    "    docs.extend(loader.load())"
   ]
  },
  {
   "cell_type": "code",
   "execution_count": 4,
   "metadata": {},
   "outputs": [
    {
     "data": {
      "text/plain": [
       "336"
      ]
     },
     "execution_count": 4,
     "metadata": {},
     "output_type": "execute_result"
    }
   ],
   "source": [
    "# split\n",
    "\n",
    "text_splitter = RecursiveCharacterTextSplitter(\n",
    "    chunk_size=1500,\n",
    "    chunk_overlap=150,\n",
    ")\n",
    "\n",
    "splits = text_splitter.split_documents(docs)\n",
    "# Total de chunks\n",
    "len(splits)"
   ]
  },
  {
   "cell_type": "code",
   "execution_count": 5,
   "metadata": {},
   "outputs": [],
   "source": [
    "def create_embeddings():\n",
    "    embeddings = OpenAIEmbeddings(\n",
    "        deployment = os.getenv(\"EMBEDDING_DEPLOYMENT_NAME\"),\n",
    "    )\n",
    "    return embeddings\n",
    "\n",
    "embedding = create_embeddings()"
   ]
  },
  {
   "cell_type": "code",
   "execution_count": 6,
   "metadata": {},
   "outputs": [
    {
     "name": "stdout",
     "output_type": "stream",
     "text": [
      "336\n"
     ]
    }
   ],
   "source": [
    "# Armazenamento no VectorDB\n",
    "vectordb = Chroma.from_documents(\n",
    "    \n",
    "    documents=splits,\n",
    "    embedding=embedding,\n",
    "    #persist_directory=persist_directory\n",
    ")\n",
    "\n",
    "print(vectordb._collection.count())"
   ]
  },
  {
   "cell_type": "code",
   "execution_count": 7,
   "metadata": {},
   "outputs": [
    {
     "data": {
      "text/plain": [
       "3"
      ]
     },
     "execution_count": 7,
     "metadata": {},
     "output_type": "execute_result"
    }
   ],
   "source": [
    "query = \"O que é uma imagem e em qual sistema operacional consigo construir uma?\"\n",
    "\n",
    "# Busca por similaridades\n",
    "docs = vectordb.similarity_search(query,k=3)\n",
    "len(docs)"
   ]
  },
  {
   "cell_type": "code",
   "execution_count": 10,
   "metadata": {},
   "outputs": [],
   "source": [
    "# Conexão com o modelo\n",
    "llm = create_chat()\n",
    "\n",
    "# Conexão para que seja possível responder a pergunta.\n",
    "qa_chain = RetrievalQA.from_chain_type(\n",
    "    llm=llm,\n",
    "    retriever = vectordb.as_retriever(),\n",
    ")"
   ]
  },
  {
   "cell_type": "code",
   "execution_count": 11,
   "metadata": {},
   "outputs": [
    {
     "data": {
      "text/plain": [
       "'Uma imagem no Docker é uma abstração da infraestrutura em estado somente leitura, de onde será instanciado o container. É possível construir uma imagem em qualquer sistema operacional que suporte o Docker, como Linux, Windows e macOS. O processo de construção de uma imagem é feito através do Dockerfile, que é um arquivo que aceita rotinas em shell script para serem executadas.'"
      ]
     },
     "execution_count": 11,
     "metadata": {},
     "output_type": "execute_result"
    }
   ],
   "source": [
    "result = qa_chain({\"query\": query})\n",
    "result[\"result\"]"
   ]
  },
  {
   "cell_type": "code",
   "execution_count": 13,
   "metadata": {},
   "outputs": [],
   "source": [
    "# Construir o prompt para auxiliar o modelo na forma e nas informações auxiliares que ajudarão a responder as perguntas.\n",
    "template = \"\"\"Use the following pieces of context to answer the question at the end. If you don't know the answer, just say that you don't know, don't try to make up an answer. Use three sentences maximum. Keep the answer as concise as possible. Always say \"thanks for asking!\" at the end of the answer. \n",
    "{context}\n",
    "Question: {question}\n",
    "Helpful Answer:\"\"\"\n",
    "prompt = PromptTemplate.from_template(template)\n"
   ]
  },
  {
   "cell_type": "code",
   "execution_count": 15,
   "metadata": {},
   "outputs": [],
   "source": [
    "# Rodar a chain\n",
    "\n",
    "qa_chain = RetrievalQA.from_chain_type(\n",
    "    llm=llm,\n",
    "    retriever = vectordb.as_retriever(),\n",
    "    return_source_documents=True,\n",
    "    # Passando a estrutura que irá auxiliar\n",
    "    chain_type_kwargs={\"prompt\":prompt}\n",
    ")"
   ]
  },
  {
   "cell_type": "code",
   "execution_count": 17,
   "metadata": {},
   "outputs": [
    {
     "data": {
      "text/plain": [
       "'Uma imagem é a abstração da infraestrutura em estado somente leitura, enquanto um container é iniciado a partir de uma imagem e é a instância em execução da imagem. Um container só pode ser iniciado a partir de uma única imagem e, caso seja necessário um comportamento diferente, é necessário customizar a imagem. Thanks for asking!'"
      ]
     },
     "execution_count": 17,
     "metadata": {},
     "output_type": "execute_result"
    }
   ],
   "source": [
    "# Fazer a pergunta e retornar o resultado.\n",
    "query = \"Qual a relação entre uma imagem e um container?\"\n",
    "result = qa_chain({\"query\": query})\n",
    "result[\"result\"]"
   ]
  },
  {
   "cell_type": "code",
   "execution_count": 18,
   "metadata": {},
   "outputs": [
    {
     "data": {
      "text/plain": [
       "Document(page_content='Criando sua própria\\nimagem no Docker\\nAntes de explicarmos como criar sua imagem, vale a pena\\ntocarmos em uma questão que normalmente confunde inici-\\nantesdodocker:“Imagemoucontainer?”\\nQual a diferença entre Imagem e\\nContainer?\\nTraçandoumparalelocomoconceitode orientaçãoaobjeto⁴⁴ ,\\naimagemé a classe e o container o objeto. A imagem é\\na abstração da infraestrutura em estado somente leitura, de\\nondeseráinstanciadoocontainer.\\nTodo container é iniciado a partir de uma imagem, dessa\\nformapodemosconcluirquenuncateremosumaimagemem\\nexecução.\\nUm container só pode ser iniciado a partir de uma única\\nimagem. Caso deseje um comportamento diferente, será ne-\\ncessáriocustomizaraimagem.\\nAnatomia da imagem\\nAsimagenspodemseroficiaisounãooficiais.\\n⁴⁴https://pt.wikipedia.org/wiki/Orienta%C3%A7%C3%A3o_a_objetos', metadata={'page': 40, 'source': 'C:\\\\AI\\\\Cursos\\\\LangChain_Chat_Data\\\\data\\\\Docker_para_desenvolvedores.pdf'})"
      ]
     },
     "execution_count": 18,
     "metadata": {},
     "output_type": "execute_result"
    }
   ],
   "source": [
    "# Verificar os documentos originais.\n",
    "result[\"source_documents\"][0]"
   ]
  },
  {
   "cell_type": "code",
   "execution_count": 19,
   "metadata": {},
   "outputs": [],
   "source": [
    "qa_chain_mr = RetrievalQA.from_chain_type(\n",
    "    llm,\n",
    "    retriever=vectordb.as_retriever(),\n",
    "    chain_type=\"map_reduce\"\n",
    ")"
   ]
  },
  {
   "cell_type": "code",
   "execution_count": 20,
   "metadata": {},
   "outputs": [
    {
     "data": {
      "text/plain": [
       "'A relação entre uma imagem e um container é que o Docker utiliza a imagem para criar o container durante a etapa de construção. Quando criamos um container, o Docker monta o rootfs em modo read-only e utiliza a imagem para criar uma camada com permissões de read-write sobre a camada de read-only. Em outras palavras, a imagem é a base para a criação do container.'"
      ]
     },
     "execution_count": 20,
     "metadata": {},
     "output_type": "execute_result"
    }
   ],
   "source": [
    "result = qa_chain_mr({\"query\": query})\n",
    "result[\"result\"]"
   ]
  },
  {
   "cell_type": "code",
   "execution_count": 21,
   "metadata": {},
   "outputs": [
    {
     "data": {
      "text/plain": [
       "'The relationship between an image and a container in the context of Docker is that an image is used as the basis for creating a container. During the image creation process, Docker uses a read-only root file system (rootfs) that includes the typical directory structure and all necessary configuration files, binaries, and libraries for program operation. Instead of modifying the rootfs to read-write mode, Docker uses unionfs to create a layer with read-write permissions over the read-only layer. This allows for the creation of multiple containers from the same image, each with its own read-write layer for making changes and storing data. The image can be built using a Dockerfile, which is a script that specifies the base image, any additional software to be installed, and any configuration changes to be made. Once the Dockerfile is created, it can be used to build the image, which can then be used to create containers.'"
      ]
     },
     "execution_count": 21,
     "metadata": {},
     "output_type": "execute_result"
    }
   ],
   "source": [
    "qa_chain_mr = RetrievalQA.from_chain_type(\n",
    "    llm,\n",
    "    retriever=vectordb.as_retriever(),\n",
    "    chain_type=\"refine\"\n",
    ")\n",
    "result = qa_chain_mr({\"query\": query})\n",
    "result[\"result\"]"
   ]
  },
  {
   "cell_type": "code",
   "execution_count": null,
   "metadata": {},
   "outputs": [],
   "source": []
  }
 ],
 "metadata": {
  "kernelspec": {
   "display_name": ".venv",
   "language": "python",
   "name": "python3"
  },
  "language_info": {
   "codemirror_mode": {
    "name": "ipython",
    "version": 3
   },
   "file_extension": ".py",
   "mimetype": "text/x-python",
   "name": "python",
   "nbconvert_exporter": "python",
   "pygments_lexer": "ipython3",
   "version": "3.10.10"
  }
 },
 "nbformat": 4,
 "nbformat_minor": 2
}
